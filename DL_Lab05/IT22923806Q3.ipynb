{
  "nbformat": 4,
  "nbformat_minor": 0,
  "metadata": {
    "colab": {
      "provenance": []
    },
    "kernelspec": {
      "name": "python3",
      "display_name": "Python 3"
    },
    "language_info": {
      "name": "python"
    }
  },
  "cells": [
    {
      "cell_type": "markdown",
      "source": [
        "***Task 3 - Sentiment Analysis using LSTM ***\n",
        "\n",
        "Sentiment analysis is a common natural language processing (NLP) task that involves determining the sentiment or emotional tone behind a body of text. It is widely used in fields such as marketing, customer service, and social media monitoring to gauge public opinion and understand customer feedback.\n",
        "\n",
        "In this task, you will implement a Long Short-Term Memory (LSTM) network, a type of recurrent neural network (RNN) that is particularly well-suited for analyzing sequential data, such as text. Using the IMDB movie reviews dataset, you will build a model to classify reviews as either positive or negative. This exercise will help you understand how LSTMs can capture the context and sequence of words in a text, making them powerful tools for tasks like sentiment analysis.\n",
        "\n",
        "By the end of this task, you should be able to implement a basic LSTM model, preprocess text data, and evaluate the model's performance using metrics such as accuracy and F1-score. This hands-on experience will give you a deeper understanding of how deep learning models can be applied to real-world NLP problems.\n",
        "\n",
        "\n"
      ],
      "metadata": {
        "id": "Jj-oTOV-_i01"
      }
    },
    {
      "cell_type": "markdown",
      "source": [],
      "metadata": {
        "id": "NiwngIerAGxi"
      }
    },
    {
      "cell_type": "code",
      "source": [
        "from google.colab import files\n",
        "uploaded = files.upload()"
      ],
      "metadata": {
        "colab": {
          "base_uri": "https://localhost:8080/",
          "height": 73
        },
        "id": "371Ri2soTgZh",
        "outputId": "22ef19e2-41a8-4be0-ff57-70a8c31c757a"
      },
      "execution_count": 2,
      "outputs": [
        {
          "output_type": "display_data",
          "data": {
            "text/plain": [
              "<IPython.core.display.HTML object>"
            ],
            "text/html": [
              "\n",
              "     <input type=\"file\" id=\"files-398d9afc-e45f-4d1e-9dbd-c28439e63912\" name=\"files[]\" multiple disabled\n",
              "        style=\"border:none\" />\n",
              "     <output id=\"result-398d9afc-e45f-4d1e-9dbd-c28439e63912\">\n",
              "      Upload widget is only available when the cell has been executed in the\n",
              "      current browser session. Please rerun this cell to enable.\n",
              "      </output>\n",
              "      <script>// Copyright 2017 Google LLC\n",
              "//\n",
              "// Licensed under the Apache License, Version 2.0 (the \"License\");\n",
              "// you may not use this file except in compliance with the License.\n",
              "// You may obtain a copy of the License at\n",
              "//\n",
              "//      http://www.apache.org/licenses/LICENSE-2.0\n",
              "//\n",
              "// Unless required by applicable law or agreed to in writing, software\n",
              "// distributed under the License is distributed on an \"AS IS\" BASIS,\n",
              "// WITHOUT WARRANTIES OR CONDITIONS OF ANY KIND, either express or implied.\n",
              "// See the License for the specific language governing permissions and\n",
              "// limitations under the License.\n",
              "\n",
              "/**\n",
              " * @fileoverview Helpers for google.colab Python module.\n",
              " */\n",
              "(function(scope) {\n",
              "function span(text, styleAttributes = {}) {\n",
              "  const element = document.createElement('span');\n",
              "  element.textContent = text;\n",
              "  for (const key of Object.keys(styleAttributes)) {\n",
              "    element.style[key] = styleAttributes[key];\n",
              "  }\n",
              "  return element;\n",
              "}\n",
              "\n",
              "// Max number of bytes which will be uploaded at a time.\n",
              "const MAX_PAYLOAD_SIZE = 100 * 1024;\n",
              "\n",
              "function _uploadFiles(inputId, outputId) {\n",
              "  const steps = uploadFilesStep(inputId, outputId);\n",
              "  const outputElement = document.getElementById(outputId);\n",
              "  // Cache steps on the outputElement to make it available for the next call\n",
              "  // to uploadFilesContinue from Python.\n",
              "  outputElement.steps = steps;\n",
              "\n",
              "  return _uploadFilesContinue(outputId);\n",
              "}\n",
              "\n",
              "// This is roughly an async generator (not supported in the browser yet),\n",
              "// where there are multiple asynchronous steps and the Python side is going\n",
              "// to poll for completion of each step.\n",
              "// This uses a Promise to block the python side on completion of each step,\n",
              "// then passes the result of the previous step as the input to the next step.\n",
              "function _uploadFilesContinue(outputId) {\n",
              "  const outputElement = document.getElementById(outputId);\n",
              "  const steps = outputElement.steps;\n",
              "\n",
              "  const next = steps.next(outputElement.lastPromiseValue);\n",
              "  return Promise.resolve(next.value.promise).then((value) => {\n",
              "    // Cache the last promise value to make it available to the next\n",
              "    // step of the generator.\n",
              "    outputElement.lastPromiseValue = value;\n",
              "    return next.value.response;\n",
              "  });\n",
              "}\n",
              "\n",
              "/**\n",
              " * Generator function which is called between each async step of the upload\n",
              " * process.\n",
              " * @param {string} inputId Element ID of the input file picker element.\n",
              " * @param {string} outputId Element ID of the output display.\n",
              " * @return {!Iterable<!Object>} Iterable of next steps.\n",
              " */\n",
              "function* uploadFilesStep(inputId, outputId) {\n",
              "  const inputElement = document.getElementById(inputId);\n",
              "  inputElement.disabled = false;\n",
              "\n",
              "  const outputElement = document.getElementById(outputId);\n",
              "  outputElement.innerHTML = '';\n",
              "\n",
              "  const pickedPromise = new Promise((resolve) => {\n",
              "    inputElement.addEventListener('change', (e) => {\n",
              "      resolve(e.target.files);\n",
              "    });\n",
              "  });\n",
              "\n",
              "  const cancel = document.createElement('button');\n",
              "  inputElement.parentElement.appendChild(cancel);\n",
              "  cancel.textContent = 'Cancel upload';\n",
              "  const cancelPromise = new Promise((resolve) => {\n",
              "    cancel.onclick = () => {\n",
              "      resolve(null);\n",
              "    };\n",
              "  });\n",
              "\n",
              "  // Wait for the user to pick the files.\n",
              "  const files = yield {\n",
              "    promise: Promise.race([pickedPromise, cancelPromise]),\n",
              "    response: {\n",
              "      action: 'starting',\n",
              "    }\n",
              "  };\n",
              "\n",
              "  cancel.remove();\n",
              "\n",
              "  // Disable the input element since further picks are not allowed.\n",
              "  inputElement.disabled = true;\n",
              "\n",
              "  if (!files) {\n",
              "    return {\n",
              "      response: {\n",
              "        action: 'complete',\n",
              "      }\n",
              "    };\n",
              "  }\n",
              "\n",
              "  for (const file of files) {\n",
              "    const li = document.createElement('li');\n",
              "    li.append(span(file.name, {fontWeight: 'bold'}));\n",
              "    li.append(span(\n",
              "        `(${file.type || 'n/a'}) - ${file.size} bytes, ` +\n",
              "        `last modified: ${\n",
              "            file.lastModifiedDate ? file.lastModifiedDate.toLocaleDateString() :\n",
              "                                    'n/a'} - `));\n",
              "    const percent = span('0% done');\n",
              "    li.appendChild(percent);\n",
              "\n",
              "    outputElement.appendChild(li);\n",
              "\n",
              "    const fileDataPromise = new Promise((resolve) => {\n",
              "      const reader = new FileReader();\n",
              "      reader.onload = (e) => {\n",
              "        resolve(e.target.result);\n",
              "      };\n",
              "      reader.readAsArrayBuffer(file);\n",
              "    });\n",
              "    // Wait for the data to be ready.\n",
              "    let fileData = yield {\n",
              "      promise: fileDataPromise,\n",
              "      response: {\n",
              "        action: 'continue',\n",
              "      }\n",
              "    };\n",
              "\n",
              "    // Use a chunked sending to avoid message size limits. See b/62115660.\n",
              "    let position = 0;\n",
              "    do {\n",
              "      const length = Math.min(fileData.byteLength - position, MAX_PAYLOAD_SIZE);\n",
              "      const chunk = new Uint8Array(fileData, position, length);\n",
              "      position += length;\n",
              "\n",
              "      const base64 = btoa(String.fromCharCode.apply(null, chunk));\n",
              "      yield {\n",
              "        response: {\n",
              "          action: 'append',\n",
              "          file: file.name,\n",
              "          data: base64,\n",
              "        },\n",
              "      };\n",
              "\n",
              "      let percentDone = fileData.byteLength === 0 ?\n",
              "          100 :\n",
              "          Math.round((position / fileData.byteLength) * 100);\n",
              "      percent.textContent = `${percentDone}% done`;\n",
              "\n",
              "    } while (position < fileData.byteLength);\n",
              "  }\n",
              "\n",
              "  // All done.\n",
              "  yield {\n",
              "    response: {\n",
              "      action: 'complete',\n",
              "    }\n",
              "  };\n",
              "}\n",
              "\n",
              "scope.google = scope.google || {};\n",
              "scope.google.colab = scope.google.colab || {};\n",
              "scope.google.colab._files = {\n",
              "  _uploadFiles,\n",
              "  _uploadFilesContinue,\n",
              "};\n",
              "})(self);\n",
              "</script> "
            ]
          },
          "metadata": {}
        },
        {
          "output_type": "stream",
          "name": "stdout",
          "text": [
            "Saving IMDB Dataset.csv to IMDB Dataset (1).csv\n"
          ]
        }
      ]
    },
    {
      "cell_type": "code",
      "source": [
        "import os, sys, tensorflow as tf\n",
        "\n",
        "print(\"Python:\", sys.version)\n",
        "print(\"TensorFlow:\", tf.__version__)\n",
        "print(\"Files in current folder:\", os.listdir())\n",
        "\n",
        "# Detect dataset path\n",
        "DATA_PATH = \"/content/IMDB Dataset.csv\" if os.path.exists(\"/content/IMDB Dataset.csv\") else \"IMDB Dataset.csv\"\n",
        "print(\"DATA_PATH:\", DATA_PATH, \"exists?\", os.path.exists(DATA_PATH))\n"
      ],
      "metadata": {
        "colab": {
          "base_uri": "https://localhost:8080/"
        },
        "id": "wZLTKXx1rR-g",
        "outputId": "b06e4378-e389-4469-b181-dc19da6e17a0"
      },
      "execution_count": 14,
      "outputs": [
        {
          "output_type": "stream",
          "name": "stdout",
          "text": [
            "Python: 3.12.11 (main, Jun  4 2025, 08:56:18) [GCC 11.4.0]\n",
            "TensorFlow: 2.19.0\n",
            "Files in current folder: ['.config', 'IMDB Dataset (1).csv', 'IMDB Dataset.csv', 'sample_data']\n",
            "DATA_PATH: /content/IMDB Dataset.csv exists? True\n"
          ]
        }
      ]
    },
    {
      "cell_type": "code",
      "source": [
        "!pip install -q pandas scikit-learn tensorflow==2.*"
      ],
      "metadata": {
        "id": "etyuX1NjrbYF"
      },
      "execution_count": 15,
      "outputs": []
    },
    {
      "cell_type": "code",
      "source": [
        "# =========================\n",
        "# CONFIG (you will change these later)\n",
        "# =========================\n",
        "SEED = 42\n",
        "NUM_WORDS = 20000\n",
        "MAXLEN = 200\n",
        "EMBED_DIM = 128      # Change this value for experiments\n",
        "LSTM_UNITS = 128     # Change this value for experiments\n",
        "DROPOUT = 0.3\n",
        "EPOCHS = 6           # Change this value for experiments\n",
        "BATCH_SIZE = 128     # Change this value for experiments\n",
        "\n",
        "# =========================\n",
        "# Imports & Seed\n",
        "# =========================\n",
        "import re, numpy as np, pandas as pd\n",
        "from sklearn.model_selection import train_test_split\n",
        "from sklearn.metrics import accuracy_score, f1_score, classification_report\n",
        "from tensorflow.keras.preprocessing.text import Tokenizer\n",
        "from tensorflow.keras.preprocessing.sequence import pad_sequences\n",
        "from tensorflow.keras.models import Sequential\n",
        "from tensorflow.keras.layers import Embedding, LSTM, Bidirectional, Dense, Dropout\n",
        "\n",
        "np.random.seed(SEED)\n",
        "tf.random.set_seed(SEED)\n",
        "\n",
        "# =========================\n",
        "# Load dataset\n",
        "# =========================\n",
        "df = pd.read_csv(DATA_PATH)\n",
        "df['label'] = df['sentiment'].map({'positive':1, 'negative':0}).astype(int)\n",
        "\n",
        "# Clean text\n",
        "def clean_text(t):\n",
        "    t = re.sub(r\"<br\\s*/?>\", \" \", str(t))\n",
        "    t = re.sub(r\"[^A-Za-z0-9' ]+\", \" \", t)\n",
        "    return t.lower().strip()\n",
        "\n",
        "df['text'] = df['review'].apply(clean_text)\n",
        "\n",
        "# Train/val/test split\n",
        "train_df, test_df = train_test_split(df[['text','label']], test_size=0.2, stratify=df['label'], random_state=SEED)\n",
        "train_df, val_df  = train_test_split(train_df, test_size=0.2, stratify=train_df['label'], random_state=SEED)\n",
        "\n",
        "# Tokenizer\n",
        "tokenizer = Tokenizer(num_words=NUM_WORDS, oov_token=\"<OOV>\")\n",
        "tokenizer.fit_on_texts(train_df['text'])\n",
        "\n",
        "def to_xy(data):\n",
        "    X = tokenizer.texts_to_sequences(data['text'])\n",
        "    X = pad_sequences(X, maxlen=MAXLEN, padding='post')\n",
        "    y = data['label'].values\n",
        "    return X, y\n",
        "\n",
        "X_train, y_train = to_xy(train_df)\n",
        "X_val, y_val     = to_xy(val_df)\n",
        "X_test, y_test   = to_xy(test_df)\n",
        "\n",
        "# =========================\n",
        "# Model builder\n",
        "# =========================\n",
        "def build_model(bidirectional=True):\n",
        "    model = Sequential()\n",
        "    model.add(Embedding(NUM_WORDS, EMBED_DIM))\n",
        "    model.add(Dropout(DROPOUT))\n",
        "\n",
        "    if bidirectional:\n",
        "        model.add(Bidirectional(LSTM(LSTM_UNITS)))\n",
        "    else:\n",
        "        model.add(LSTM(LSTM_UNITS))\n",
        "\n",
        "    model.add(Dropout(DROPOUT))\n",
        "    model.add(Dense(1, activation='sigmoid'))\n",
        "\n",
        "    model.compile(optimizer='adam', loss='binary_crossentropy', metrics=['accuracy'])\n",
        "    return model\n",
        "\n",
        "# =========================\n",
        "# Training function\n",
        "# =========================\n",
        "def train_and_eval(name, bidirectional=True):\n",
        "    print(f\"\\n===== Training {name} =====\")\n",
        "    model = build_model(bidirectional)\n",
        "    history = model.fit(\n",
        "        X_train, y_train,\n",
        "        validation_data=(X_val, y_val),\n",
        "        epochs=EPOCHS,\n",
        "        batch_size=BATCH_SIZE,\n",
        "        verbose=2\n",
        "    )\n",
        "    y_pred = (model.predict(X_test) >= 0.5).astype(int)\n",
        "    acc = accuracy_score(y_test, y_pred)\n",
        "    f1  = f1_score(y_test, y_pred)\n",
        "    print(f\"{name} - Test Accuracy: {acc:.4f}, F1-score: {f1:.4f}\")\n",
        "    return {\"Model\":name, \"Accuracy\":acc, \"F1\":f1}\n",
        "\n",
        "# =========================\n",
        "# Run BiLSTM and UniLSTM\n",
        "# =========================\n",
        "res1 = train_and_eval(\"BiLSTM\", bidirectional=True)\n",
        "res2 = train_and_eval(\"UniLSTM\", bidirectional=False)\n",
        "\n",
        "print(\"\\nFinal Comparison:\")\n",
        "print(pd.DataFrame([res1, res2]))\n"
      ],
      "metadata": {
        "colab": {
          "base_uri": "https://localhost:8080/"
        },
        "id": "yrjNlQZmrjo-",
        "outputId": "0b795a63-f17e-4a67-ac4d-e2c958d68dd1"
      },
      "execution_count": 17,
      "outputs": [
        {
          "output_type": "stream",
          "name": "stdout",
          "text": [
            "\n",
            "===== Training BiLSTM =====\n",
            "Epoch 1/6\n",
            "250/250 - 379s - 2s/step - accuracy: 0.7541 - loss: 0.4920 - val_accuracy: 0.8668 - val_loss: 0.3333\n",
            "Epoch 2/6\n",
            "250/250 - 374s - 1s/step - accuracy: 0.8962 - loss: 0.2723 - val_accuracy: 0.8601 - val_loss: 0.3281\n",
            "Epoch 3/6\n",
            "250/250 - 381s - 2s/step - accuracy: 0.9302 - loss: 0.1930 - val_accuracy: 0.8621 - val_loss: 0.4215\n",
            "Epoch 4/6\n",
            "250/250 - 382s - 2s/step - accuracy: 0.9294 - loss: 0.1887 - val_accuracy: 0.8669 - val_loss: 0.3452\n",
            "Epoch 5/6\n",
            "250/250 - 362s - 1s/step - accuracy: 0.9487 - loss: 0.1438 - val_accuracy: 0.8650 - val_loss: 0.4817\n",
            "Epoch 6/6\n",
            "250/250 - 374s - 1s/step - accuracy: 0.9599 - loss: 0.1163 - val_accuracy: 0.8739 - val_loss: 0.4472\n",
            "\u001b[1m313/313\u001b[0m \u001b[32m━━━━━━━━━━━━━━━━━━━━\u001b[0m\u001b[37m\u001b[0m \u001b[1m60s\u001b[0m 192ms/step\n",
            "BiLSTM - Test Accuracy: 0.8796, F1-score: 0.8796\n",
            "\n",
            "===== Training UniLSTM =====\n",
            "Epoch 1/6\n",
            "250/250 - 196s - 782ms/step - accuracy: 0.5858 - loss: 0.6678 - val_accuracy: 0.6175 - val_loss: 0.6641\n",
            "Epoch 2/6\n",
            "250/250 - 203s - 811ms/step - accuracy: 0.6425 - loss: 0.6333 - val_accuracy: 0.5819 - val_loss: 0.6458\n",
            "Epoch 3/6\n",
            "250/250 - 197s - 790ms/step - accuracy: 0.6627 - loss: 0.5953 - val_accuracy: 0.7454 - val_loss: 0.6057\n",
            "Epoch 4/6\n",
            "250/250 - 204s - 818ms/step - accuracy: 0.7138 - loss: 0.5245 - val_accuracy: 0.8288 - val_loss: 0.4118\n",
            "Epoch 5/6\n",
            "250/250 - 199s - 798ms/step - accuracy: 0.8592 - loss: 0.3310 - val_accuracy: 0.8761 - val_loss: 0.3367\n",
            "Epoch 6/6\n",
            "250/250 - 201s - 804ms/step - accuracy: 0.8942 - loss: 0.2814 - val_accuracy: 0.8771 - val_loss: 0.3156\n",
            "\u001b[1m313/313\u001b[0m \u001b[32m━━━━━━━━━━━━━━━━━━━━\u001b[0m\u001b[37m\u001b[0m \u001b[1m35s\u001b[0m 110ms/step\n",
            "UniLSTM - Test Accuracy: 0.8783, F1-score: 0.8796\n",
            "\n",
            "Final Comparison:\n",
            "     Model  Accuracy        F1\n",
            "0   BiLSTM    0.8796  0.879552\n",
            "1  UniLSTM    0.8783  0.879612\n"
          ]
        }
      ]
    },
    {
      "cell_type": "markdown",
      "source": [
        "### Sentiment Analysis Results\n",
        "\n",
        "- **BiLSTM**  \n",
        "  - Test Accuracy: 0.8796  \n",
        "  - Test F1-score: 0.8796\n",
        "\n",
        "- **UniLSTM**  \n",
        "  - Test Accuracy: 0.8783  \n",
        "  - Test F1-score: 0.8796\n"
      ],
      "metadata": {
        "id": "yNzwgkQH9O9g"
      }
    },
    {
      "cell_type": "markdown",
      "source": [
        "### Analysis\n",
        "\n",
        "- BiLSTM and UniLSTM performed almost equally on this dataset.  \n",
        "- BiLSTM reads text in both directions, so it usually captures more context, but here the improvement over UniLSTM is very small.  \n",
        "- UniLSTM is simpler and trains faster (see training time: BiLSTM ~6 min/epoch, UniLSTM ~3 min/epoch).  \n",
        "- Both models achieve high F1-scores (~0.88), showing good balance between precision and recall.  \n",
        "- Dropout helped prevent overfitting.  \n",
        "- If needed, further tuning (embedding dimension, LSTM units, epochs) could slightly improve performance.\n"
      ],
      "metadata": {
        "id": "2UbjySeI9aUi"
      }
    },
    {
      "cell_type": "code",
      "execution_count": 3,
      "metadata": {
        "id": "xuZQUbSV-XFR"
      },
      "outputs": [],
      "source": [
        "import numpy as np\n",
        "import pandas as pd\n",
        "import tensorflow as tf\n",
        "from tensorflow.keras.models import Sequential\n",
        "from tensorflow.keras.layers import Embedding, LSTM, Dense, Bidirectional, Dropout\n",
        "from tensorflow.keras.preprocessing.text import Tokenizer\n",
        "from tensorflow.keras.preprocessing.sequence import pad_sequences\n",
        "from sklearn.metrics import accuracy_score, f1_score\n",
        "from sklearn.model_selection import train_test_split\n",
        "import re"
      ]
    },
    {
      "cell_type": "markdown",
      "source": [
        "**The pd.read_csv()** function is used to read the CSV file. We specify the **engine='python'** to handle complex parsing scenarios, such as files with irregular delimiters or quotes. The **on_bad_lines='skip'** parameter ensures that any problematic rows in the CSV file (e.g., rows with formatting issues) are skipped instead of causing the program to crash. This helps in handling large and potentially messy datasets. After loading the data, the **df.dropna(inplace=True)** line removes any rows that contain missing values. This is important to ensure that the data fed into the model is complete and does not cause errors during processing."
      ],
      "metadata": {
        "id": "KfgefT2LELZJ"
      }
    },
    {
      "cell_type": "code",
      "source": [
        "# 1. Load and Preprocess the Dataset\n",
        "def load_data(file_path):\n",
        "    # Load the dataset (e.g., IMDB movie reviews dataset)\n",
        "    df = pd.read_csv(file_path, engine='python', on_bad_lines='skip')  # Using 'python' engine and skipping bad lines\n",
        "    df.dropna(inplace=True)  # Drop any rows with missing values\n",
        "    return df['review'], df['sentiment']  # Assuming 'review' and 'sentiment' columns"
      ],
      "metadata": {
        "id": "Mc92V-gf-pJa"
      },
      "execution_count": 4,
      "outputs": []
    },
    {
      "cell_type": "markdown",
      "source": [
        "The clean_text function is designed to clean and preprocess text data by removing unwanted characters, numbers, and symbols, ensuring that the text is ready for tokenization and further processing.\n",
        "\n",
        "**re.sub(r\"[^A-Za-z\\s]\", \"\", text)** removes any characters that are not letters (A-Z, a-z) or spaces. This includes punctuation, numbers, and special symbols.\n",
        "\n",
        "**re.sub(r\"\\s+\", \" \", text)** replaces multiple spaces with a single space.\n",
        "\n",
        "**.strip()** removes any leading or trailing spaces from the text.\n",
        "\n",
        "This cleaning process ensures that the text is standardized, making it easier for the model to learn patterns without being confused by irrelevant characters or inconsistent spacing."
      ],
      "metadata": {
        "id": "lBbycaTQEZqu"
      }
    },
    {
      "cell_type": "code",
      "source": [
        "# Clean the text\n",
        "def clean_text(text):\n",
        "    # Remove unwanted characters, numbers, and symbols\n",
        "    text = re.sub(r\"[^A-Za-z\\s]\", \"\", text)\n",
        "    text = re.sub(r\"\\s+\", \" \", text).strip()\n",
        "    return text"
      ],
      "metadata": {
        "id": "LP4Gqve9-vrm"
      },
      "execution_count": 5,
      "outputs": []
    },
    {
      "cell_type": "markdown",
      "source": [
        "**preprocess_text**  first cleans each review by removing unwanted characters using the clean_text function. Then, it initializes a Tokenizer to convert text into sequences of integers, where each integer represents a word. These sequences are padded to a uniform length (max_len) to ensure consistent input size for the model. Finally, it returns the padded sequences and the tokenizer for further use.\n",
        "\n",
        "A **Tokenizer** in the context of text processing is a tool used to convert text data into a numerical format that machine learning models can understand."
      ],
      "metadata": {
        "id": "yRSTAOAAFmeC"
      }
    },
    {
      "cell_type": "code",
      "source": [
        "# Tokenize and Pad Sequences\n",
        "def preprocess_text(reviews, max_words=5000, max_len=200):\n",
        "    reviews = [clean_text(review) for review in reviews]  # Clean the reviews\n",
        "    tokenizer = Tokenizer(num_words=max_words)\n",
        "    tokenizer.fit_on_texts(reviews)\n",
        "    sequences = tokenizer.texts_to_sequences(reviews)\n",
        "    padded_sequences = pad_sequences(sequences, maxlen=max_len)\n",
        "    return padded_sequences, tokenizer\n",
        "\n"
      ],
      "metadata": {
        "id": "XqoZFZqe-1cp"
      },
      "execution_count": 6,
      "outputs": []
    },
    {
      "cell_type": "markdown",
      "source": [
        "The encode_labels function converts 'positive' and 'negative' sentiment labels into 1s and 0s, respectively, for numerical processing. It then returns these labels as a NumPy array."
      ],
      "metadata": {
        "id": "FQpbtZ00HW8m"
      }
    },
    {
      "cell_type": "code",
      "source": [
        "# Encode Sentiments\n",
        "def encode_labels(sentiments):\n",
        "    sentiments = sentiments.map({'positive': 1, 'negative': 0}).values\n",
        "    return sentiments"
      ],
      "metadata": {
        "id": "n5Ew2pHSBrw1"
      },
      "execution_count": 7,
      "outputs": []
    },
    {
      "cell_type": "code",
      "source": [
        "# Load Data\n",
        "file_path = 'IMDB Dataset.csv'  # <-- Provide the correct path to the dataset\n",
        "reviews, sentiments = load_data(file_path)"
      ],
      "metadata": {
        "id": "eFHTW-NkBuB5"
      },
      "execution_count": 8,
      "outputs": []
    },
    {
      "cell_type": "code",
      "source": [
        "# Preprocess Text Data\n",
        "max_words = 5000  # Consider the top 5000 words\n",
        "max_len = 200  # Pad or truncate reviews to 200 words\n",
        "X, tokenizer = preprocess_text(reviews, max_words=max_words, max_len=max_len)"
      ],
      "metadata": {
        "id": "JIXFLuFXBwP6"
      },
      "execution_count": 9,
      "outputs": []
    },
    {
      "cell_type": "code",
      "source": [
        "# Encode Sentiments (positive -> 1, negative -> 0)\n",
        "y = encode_labels(sentiments)\n",
        "\n",
        "# Split into Training and Testing Sets\n",
        "X_train, X_test, y_train, y_test = train_test_split(X, y, test_size=0.2, random_state=42)"
      ],
      "metadata": {
        "id": "RSP3545_B0XJ"
      },
      "execution_count": 10,
      "outputs": []
    },
    {
      "cell_type": "markdown",
      "source": [
        "**Sequential():** Initializes a linear stack of layers.\n",
        "Embedding(input_dim=max_words, output_dim=128,\n",
        "\n",
        "**input_length=max_len):** Converts integer sequences into dense vectors of fixed size (128) for each word. input_dim is the number of unique words considered, and input_length is the length of each sequence.\n",
        "\n",
        "**Bidirectional(LSTM(units=64, return_sequences=False)):** Adds a Bidirectional LSTM layer with 64 units. This means the LSTM processes the input in both forward and backward directions to capture context from both ends of the sequence.\n",
        "\n",
        "**Dense(1, activation='sigmoid'):** Adds a dense layer with a single output unit and a sigmoid activation function for binary classification (e.g., positive or negative sentiment).\n",
        "\n",
        "***1.\tModify the output_dim in the Embedding layer and the units in the LSTM layers. Consider adding dropout for regularization.***\n",
        "\n",
        "***2. Modify 'epochs' and 'batch_size' to see how they impact training time and model accuracy***\n",
        "\n",
        "**IT WILL TAKE FEW MINUTES TO TRAIN THE MODEL.**"
      ],
      "metadata": {
        "id": "_jLH6R1QICl6"
      }
    },
    {
      "cell_type": "code",
      "source": [
        "# 2. Define the LSTM Model\n",
        "model = Sequential()\n",
        "\n",
        "# Modify the embedding dimensions and experiment with LSTM configurations ---\n",
        "model.add(Embedding(input_dim=max_words, output_dim=128, input_length=max_len))  # <-- Modify 'output_dim'\n",
        "model.add(Bidirectional(LSTM(units=64, return_sequences=False)))  # <-- Experiment with 'units' and add Dropout if necessary\n",
        "\n",
        "model.add(Dense(1, activation='sigmoid'))  # Output layer for binary classification\n",
        "\n",
        "model.compile(optimizer='adam', loss='binary_crossentropy', metrics=['accuracy'])\n",
        "\n",
        "# 3. Train the Model\n",
        "#  Modify 'epochs' and 'batch_size' to see how they impact training time and model accuracy ---\n",
        "model.fit(X_train, y_train, epochs=10, batch_size=32, validation_data=(X_test, y_test), verbose=1)  # <-- Experiment with 'epochs' and 'batch_size'\n"
      ],
      "metadata": {
        "colab": {
          "base_uri": "https://localhost:8080/"
        },
        "id": "fYwiE64nB4fn",
        "outputId": "749ad3f6-086c-42e1-956a-91255afac7ff"
      },
      "execution_count": null,
      "outputs": [
        {
          "metadata": {
            "tags": null
          },
          "name": "stdout",
          "output_type": "stream",
          "text": [
            "Epoch 1/10\n"
          ]
        },
        {
          "metadata": {
            "tags": null
          },
          "name": "stderr",
          "output_type": "stream",
          "text": [
            "/usr/local/lib/python3.12/dist-packages/keras/src/layers/core/embedding.py:97: UserWarning: Argument `input_length` is deprecated. Just remove it.\n",
            "  warnings.warn(\n"
          ]
        },
        {
          "output_type": "stream",
          "name": "stdout",
          "text": [
            "\u001b[1m1250/1250\u001b[0m \u001b[32m━━━━━━━━━━━━━━━━━━━━\u001b[0m\u001b[37m\u001b[0m \u001b[1m301s\u001b[0m 238ms/step - accuracy: 0.7503 - loss: 0.4957 - val_accuracy: 0.7012 - val_loss: 0.5671\n",
            "Epoch 2/10\n",
            "\u001b[1m1250/1250\u001b[0m \u001b[32m━━━━━━━━━━━━━━━━━━━━\u001b[0m\u001b[37m\u001b[0m \u001b[1m324s\u001b[0m 239ms/step - accuracy: 0.8320 - loss: 0.3937 - val_accuracy: 0.8732 - val_loss: 0.2966\n",
            "Epoch 3/10\n",
            "\u001b[1m1250/1250\u001b[0m \u001b[32m━━━━━━━━━━━━━━━━━━━━\u001b[0m\u001b[37m\u001b[0m \u001b[1m322s\u001b[0m 239ms/step - accuracy: 0.9057 - loss: 0.2470 - val_accuracy: 0.8845 - val_loss: 0.2788\n",
            "Epoch 4/10\n",
            "\u001b[1m1250/1250\u001b[0m \u001b[32m━━━━━━━━━━━━━━━━━━━━\u001b[0m\u001b[37m\u001b[0m \u001b[1m320s\u001b[0m 238ms/step - accuracy: 0.9212 - loss: 0.2101 - val_accuracy: 0.8876 - val_loss: 0.2762\n",
            "Epoch 5/10\n",
            "\u001b[1m 836/1250\u001b[0m \u001b[32m━━━━━━━━━━━━━\u001b[0m\u001b[37m━━━━━━━\u001b[0m \u001b[1m1:31\u001b[0m 221ms/step - accuracy: 0.9360 - loss: 0.1706"
          ]
        }
      ]
    },
    {
      "cell_type": "code",
      "source": [
        "# 4. Evaluate the Model\n",
        "y_pred = (model.predict(X_test) > 0.5).astype(\"int32\")\n"
      ],
      "metadata": {
        "id": "Y-C628EqB84t"
      },
      "execution_count": null,
      "outputs": []
    },
    {
      "cell_type": "markdown",
      "source": [
        "\n",
        "The F1-score is a metric used to evaluate the performance of a classification model, particularly in cases where class imbalance exists. It combines two important metrics:\n",
        "\n",
        "***Precision:***The proportion of true positive predictions out of all positive predictions made by the model. It measures how many of the predicted positives are actually true positives.\n",
        "\n",
        "\n",
        "***Recall (Sensitivity):***The proportion of true positive predictions out of all actual positives. It measures how many of the actual positives were correctly identified by the model.\n",
        "\n",
        "\n",
        "***The F1-score*** is the harmonic mean of precision and recall and is given by:\n",
        "\n",
        "\n",
        " ![05cc4b35.png](data:image/png;base64,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)\n",
        "\n",
        "\n",
        "\n",
        "\n",
        "\n",
        "***3. Analyze the accuracy and F1-score. Consider modifying the model architecture or hyperparameters to improve performance***"
      ],
      "metadata": {
        "id": "kMKqxh_LIklO"
      }
    },
    {
      "cell_type": "code",
      "source": [
        "# Calculate Accuracy and F1-Score\n",
        "accuracy = accuracy_score(y_test, y_pred)\n",
        "f1 = f1_score(y_test, y_pred)\n",
        "\n",
        "print(f'Accuracy: {accuracy:.4f}')\n",
        "print(f'F1-Score: {f1:.4f}')\n",
        "\n",
        "\n",
        "#  Analyze the accuracy and F1-score. Consider modifying the model architecture or hyperparameters to improve performance ---"
      ],
      "metadata": {
        "id": "YgUPhGIkB_IK"
      },
      "execution_count": null,
      "outputs": []
    },
    {
      "cell_type": "markdown",
      "source": [
        "**Unidirectional LSTM**\n",
        "\n",
        "Unidirectional LSTM processes input sequences in one direction, typically from past to future (left-to-right). It is suitable for tasks where future context does not influence the current prediction.\n",
        "\n",
        "***Applications:***\n",
        "\n",
        "Time-Series Prediction: Forecasting future values based on past data.\n",
        "Sentiment Analysis: Determining the sentiment of a text based on previous words.\n",
        "\n",
        "**Bidirectional LSTM**\n",
        "\n",
        "Bidirectional LSTM processes input sequences in both directions (left-to-right and right-to-left). It captures context from both past and future, providing a more comprehensive understanding of the sequence.\n",
        "\n",
        "***Applications:***\n",
        "\n",
        "Machine Translation: Improving translation by considering both preceding and following words.\n",
        "Named Entity Recognition: Identifying entities in text by understanding context from both directions."
      ],
      "metadata": {
        "id": "nIrKZl-RJ6vl"
      }
    },
    {
      "cell_type": "markdown",
      "source": [
        "**In the above exercise, we use the bidirectional LSTM model.**\n",
        "\n",
        "1. Compare the performance of the bidirectional LSTM with a unidirectional LSTM using the same dataset. (You have to change the model to unidirectional)\n",
        "\n",
        "2. Analyze the impact of each architecture on model accuracy and F1-score.\n",
        "\n",
        "**You can use the same notebook and type your answers in a text cell.**\n"
      ],
      "metadata": {
        "id": "hbmUhS9LIsD-"
      }
    },
    {
      "cell_type": "code",
      "source": [
        "import matplotlib.pyplot as plt\n",
        "\n",
        "# Create lists from results\n",
        "models = [res1[\"Model\"], res2[\"Model\"]]\n",
        "accuracy = [res1[\"Accuracy\"], res2[\"Accuracy\"]]\n",
        "f1 = [res1[\"F1\"], res2[\"F1\"]]\n",
        "\n",
        "# Plot Accuracy\n",
        "plt.figure(figsize=(6,4))\n",
        "plt.bar(models, accuracy, color=['skyblue','orange'])\n",
        "plt.ylim(0,1)\n",
        "plt.title(\"BiLSTM vs UniLSTM Accuracy\")\n",
        "plt.ylabel(\"Accuracy\")\n",
        "plt.show()\n",
        "\n",
        "# Plot F1-score\n",
        "plt.figure(figsize=(6,4))\n",
        "plt.bar(models, f1, color=['skyblue','orange'])\n",
        "plt.ylim(0,1)\n",
        "plt.title(\"BiLSTM vs UniLSTM F1-score\")\n",
        "plt.ylabel(\"F1-score\")\n",
        "plt.show()\n"
      ],
      "metadata": {
        "colab": {
          "base_uri": "https://localhost:8080/",
          "height": 765
        },
        "id": "lZA67h_a9fBg",
        "outputId": "bee94a38-77f4-4888-f8c9-7926877da341"
      },
      "execution_count": 19,
      "outputs": [
        {
          "output_type": "display_data",
          "data": {
            "text/plain": [
              "<Figure size 600x400 with 1 Axes>"
            ],
            "image/png": "[encoded data removed]"
          },
          "metadata": {}
        },
        {
          "output_type": "display_data",
          "data": {
            "text/plain": [
              "<Figure size 600x400 with 1 Axes>"
            ],
            "image/png": "[encoded data removed]"
          },
          "metadata": {}
        }
      ]
    },
    {
      "cell_type": "markdown",
      "source": [
        "**Performance Comparison: BiLSTM vs UniLSTM**\n",
        "\n",
        "| Model      | Test Accuracy | F1-score |\n",
        "|------------|---------------|----------|\n",
        "| BiLSTM     | 0.8796        | 0.8796   |\n",
        "| UniLSTM    | 0.8783        | 0.8796   |\n",
        "\n",
        "\n",
        "**Observation:**\n",
        "\n",
        "Both models perform very similarly on this dataset.\n",
        "\n",
        "BiLSTM slightly outperforms UniLSTM in test accuracy, likely because it reads the text in both directions, capturing more context.\n",
        "\n",
        "UniLSTM is simpler and trains faster, but may slightly lose contextual information from one direction.\n",
        "\n",
        "\n",
        "\n",
        "**Impact of Architecture on Accuracy and F1-score**\n",
        "\n",
        "Bidirectional LSTM (BiLSTM):\n",
        "\n",
        "Captures both left-to-right and right-to-left context in the text.\n",
        "\n",
        "Typically gives slightly better F1-score and accuracy, especially for longer sentences or reviews with context-dependent sentiment.\n",
        "\n",
        "Takes longer to train due to more parameters.\n",
        "\n",
        "Unidirectional LSTM (UniLSTM):\n",
        "\n",
        "Reads text in one direction only.\n",
        "\n",
        "Faster and uses fewer resources.\n",
        "\n",
        "Slightly lower accuracy in some cases, but still performs very well on balanced datasets like IMDB.\n",
        "\n",
        "**General notes:**\n",
        "\n",
        "Differences are small here because the IMDB dataset reviews are usually short and the dataset is large, so both models learn effective representations.\n",
        "\n",
        "Dropout helps prevent overfitting in both architectures."
      ],
      "metadata": {
        "id": "IXbve4GS-Ddr"
      }
    }
  ]
}